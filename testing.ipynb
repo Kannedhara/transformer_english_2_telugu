{
 "cells": [
  {
   "cell_type": "code",
   "execution_count": 10,
   "id": "86a85700",
   "metadata": {},
   "outputs": [
    {
     "name": "stdout",
     "output_type": "stream",
     "text": [
      "{'english': 'Tom started his car and drove away.', 'telugu': 'టామ్ తన కారును స్టార్ట్ చేసి దూరంగా నడిపాడు.'}\n"
     ]
    }
   ],
   "source": [
    "from datasets import load_dataset\n",
    "\n",
    "dataset=load_dataset(\"HackHedron/English_Telugu_Parallel_Corpus\")\n",
    "\n",
    "for items in dataset['train']:\n",
    "    print(items)\n",
    "    break\n",
    "\n",
    "\n"
   ]
  }
 ],
 "metadata": {
  "kernelspec": {
   "display_name": ".venv",
   "language": "python",
   "name": "python3"
  },
  "language_info": {
   "codemirror_mode": {
    "name": "ipython",
    "version": 3
   },
   "file_extension": ".py",
   "mimetype": "text/x-python",
   "name": "python",
   "nbconvert_exporter": "python",
   "pygments_lexer": "ipython3",
   "version": "3.10.11"
  }
 },
 "nbformat": 4,
 "nbformat_minor": 5
}
